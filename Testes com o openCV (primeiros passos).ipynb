{
 "cells": [
  {
   "cell_type": "code",
   "execution_count": 7,
   "metadata": {},
   "outputs": [],
   "source": [
    "import numpy as np\n",
    "import cv2 "
   ]
  },
  {
   "cell_type": "markdown",
   "metadata": {},
   "source": [
    "# Imagens"
   ]
  },
  {
   "cell_type": "code",
   "execution_count": 11,
   "metadata": {},
   "outputs": [],
   "source": [
    "#Exibir uma imagem em uma janela \n",
    "#cv2.imread(buffer, flags) \n",
    "    #se flag > 0 mostra imagem colorida em 3 canais\n",
    "    #se flag = 0 mostra imagem em escala de cinza\n",
    "    #se flag < 0 mostra imagem como ela é\n",
    "img = cv2.imread('sol.jpg',0)\n",
    "cv2.imshow('image',img)\n",
    "cv2.waitKey(10000)\n",
    "cv2.destroyAllWindows()"
   ]
  },
  {
   "cell_type": "markdown",
   "metadata": {},
   "source": [
    "criar uma janela e carregar a imagem posteriormente : cv2.namedWindow () \n",
    "\n",
    "Por padrão, o sinalizador é cv2.WINDOW_AUTOSIZE. Mas se você especificar o sinalizador cv2.WINDOW_NORMAL, você pode redimensionar a janela."
   ]
  },
  {
   "cell_type": "code",
   "execution_count": null,
   "metadata": {},
   "outputs": [],
   "source": [
    "#Salva uma imagem, o primeiro argumento é o nome do arquivo, segundo argumento é a imagem que você deseja salvar.\n",
    "cv2.imwrite('sol_p_b.jpg',img)"
   ]
  },
  {
   "cell_type": "code",
   "execution_count": null,
   "metadata": {},
   "outputs": [],
   "source": [
    "cv2.imshow('image',img)\n",
    "k = cv2.waitKey(0) & 0xFF\n",
    "if k == 27:         # wait for ESC key to exit\n",
    "    cv2.destroyAllWindows()\n",
    "elif k == ord('s'): # wait for 's' key to save and exit\n",
    "    cv2.imwrite('messigray.png',img)\n",
    "    cv2.destroyAllWindows()"
   ]
  },
  {
   "cell_type": "markdown",
   "metadata": {},
   "source": [
    "# [Vídeos](https://opencv-python-tutroals.readthedocs.io/en/latest/py_tutorials/py_gui/py_video_display/py_video_display.html)"
   ]
  },
  {
   "cell_type": "markdown",
   "metadata": {},
   "source": [
    "# Desenhos"
   ]
  },
  {
   "cell_type": "markdown",
   "metadata": {},
   "source": [
    "**img**: a imagem onde você quer desenhar as formas\n",
    "\n",
    "**color**: cor da forma. para BGR, passe-o como uma tupla, por exemplo: (255,0,0) para azul. Para tons de cinza, apenas passe o valor escalar.\n",
    "\n",
    "**Espessura**: Espessura da linha ou círculo, etc. Se -1 for passado para figuras fechadas como círculos, ele preencherá a forma. espessura padrão = 1\n",
    "\n",
    "**lineType**: Tipo de linha, seja 8-connected, anti-aliased line etc. Por padrão, é 8-connected. cv2.LINE_AAdá uma linha anti-aliased que parece ótima para curvas."
   ]
  },
  {
   "cell_type": "markdown",
   "metadata": {},
   "source": [
    "### Linha"
   ]
  },
  {
   "cell_type": "code",
   "execution_count": null,
   "metadata": {},
   "outputs": [],
   "source": [
    "# Create a black image\n",
    "img = np.zeros((512,512,3), np.uint8)\n",
    "# Draw a diagonal blue line with thickness of 5 px\n",
    "img = cv2.line(img,(0,0),(511,511),(255,0,0),5)"
   ]
  }
 ],
 "metadata": {
  "kernelspec": {
   "display_name": "Python 3",
   "language": "python",
   "name": "python3"
  },
  "language_info": {
   "codemirror_mode": {
    "name": "ipython",
    "version": 3
   },
   "file_extension": ".py",
   "mimetype": "text/x-python",
   "name": "python",
   "nbconvert_exporter": "python",
   "pygments_lexer": "ipython3",
   "version": "3.7.3"
  }
 },
 "nbformat": 4,
 "nbformat_minor": 2
}
