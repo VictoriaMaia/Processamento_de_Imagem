{
 "cells": [
  {
   "cell_type": "code",
   "execution_count": 1,
   "metadata": {},
   "outputs": [
    {
     "ename": "SyntaxError",
     "evalue": "Missing parentheses in call to 'print'. Did you mean print(M_rotation)? (<ipython-input-1-5434e7bbe60f>, line 29)",
     "output_type": "error",
     "traceback": [
      "\u001b[0;36m  File \u001b[0;32m\"<ipython-input-1-5434e7bbe60f>\"\u001b[0;36m, line \u001b[0;32m29\u001b[0m\n\u001b[0;31m    print M_rotation\u001b[0m\n\u001b[0m                   ^\u001b[0m\n\u001b[0;31mSyntaxError\u001b[0m\u001b[0;31m:\u001b[0m Missing parentheses in call to 'print'. Did you mean print(M_rotation)?\n"
     ]
    }
   ],
   "source": [
    "import sys\n",
    "import cv2\n",
    "import numpy as np\n",
    "import matplotlib.pyplot as plt\n",
    "\n",
    "#abre imagen\n",
    "filename = sys.argv[1]\n",
    "im = cv2.imread(filename)\n",
    "\n",
    "#converte pra RGB\n",
    "im = cv2.cvtColor(im, cv2.COLOR_BGR2RGB)\n",
    "\n",
    "#dimensoes\n",
    "width = im.shape[1]\n",
    "height = im.shape[0]\n",
    "\n",
    "#matrizes de transformacao \n",
    "\n",
    "#rotation 45 graus\n",
    "#x_center = width/2\n",
    "#y_center = height/2\n",
    "#M_rotation = cv2.getRotationMatrix2D((x_center,y_center),45,1)\n",
    "#M_rotation = cv2.getRotationMatrix2D((0,0),30,1)\n",
    "\n",
    "#print M_rotation\n",
    "\n",
    "M_rotation = np.float32([[0.86,0.5,0],[-0.5 ,0.86,0]])\n",
    "\n",
    "print M_rotation\n",
    "\n",
    "#scaling x 0.7\n",
    "M_scaling = np.float32([[.7,0,1],[0,.7,1]])\n",
    "\n",
    "#translation (180,100)\n",
    "M_translation = np.float32([[1,0,180],[0,1,100]])\n",
    "\n",
    "#cisalhamento horizontal e vertical\n",
    "#TODO\n",
    "\n",
    "#Computa as transformacoes\n",
    "im_rotated = cv2.warpAffine(im,M_rotation,(width,height))\n",
    "im_scaled = cv2.warpAffine(im,M_scaling,(width,height))\n",
    "im_translated = cv2.warpAffine(im,M_translation,(width,height))\n",
    "\n",
    "#mostra imagens em janelas separadas\n",
    "#cv2.imshow('original',im)\n",
    "#cv2.imshow('Rotate',im_rotated)\n",
    "#cv2.imshow('Scaling',im_scaled)\n",
    "#cv2.imshow('Translation',im_translated)\n",
    "#cv2.waitKey(0)\n",
    "#cv2.destroyAllWindows()\n",
    "\n",
    "#mostra imagens\n",
    "plt.subplot(221), plt.imshow(im, cmap='gray')\n",
    "plt.subplot(222), plt.imshow(im_rotated, cmap='gray')\n",
    "plt.subplot(223), plt.imshow(im_scaled, cmap='gray')\n",
    "plt.subplot(224), plt.imshow(im_translated, cmap='gray')\n",
    "plt.show()"
   ]
  }
 ],
 "metadata": {
  "kernelspec": {
   "display_name": "Python 3",
   "language": "python",
   "name": "python3"
  },
  "language_info": {
   "codemirror_mode": {
    "name": "ipython",
    "version": 3
   },
   "file_extension": ".py",
   "mimetype": "text/x-python",
   "name": "python",
   "nbconvert_exporter": "python",
   "pygments_lexer": "ipython3",
   "version": "3.7.3"
  }
 },
 "nbformat": 4,
 "nbformat_minor": 4
}
