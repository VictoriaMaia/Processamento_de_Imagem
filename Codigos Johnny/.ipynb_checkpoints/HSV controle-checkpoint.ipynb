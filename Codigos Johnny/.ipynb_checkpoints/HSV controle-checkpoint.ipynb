{
 "cells": [
  {
   "cell_type": "code",
   "execution_count": 15,
   "metadata": {},
   "outputs": [],
   "source": [
    "import cv2\n",
    "import numpy as np\n",
    "\n",
    "img = cv2.imread(\"lena.png\")\n",
    "img = cv2.cvtColor(img,cv2.COLOR_BGR2HSV)\n",
    "\n",
    "\n",
    "def nothing(x):\n",
    "    pass\n",
    "    \n",
    "# Create a black image, a window\n",
    "#img = np.zeros((300,512,3), np.uint8)\n",
    "cv2.namedWindow('image')\n",
    "\n",
    "# create trackbars for color change\n",
    "cv2.createTrackbar('H','image',125,255,nothing)\n",
    "cv2.createTrackbar('S','image',125,255,nothing)\n",
    "cv2.createTrackbar('V','image',125,255,nothing)\n",
    "\n",
    "\n",
    "while(1):\n",
    "    img_result = cv2.cvtColor(img_, cv2.COLOR_HSV2BGR)\n",
    "    cv2.imshow('image',img_result)\n",
    "    k = cv2.waitKey(1) & 0xFF\n",
    "    if k == 27:\n",
    "        break\n",
    "\n",
    "    # get current positions of four trackbars\n",
    "    h = cv2.getTrackbarPos('H','image')\n",
    "    s = cv2.getTrackbarPos('S','image')\n",
    "    v = cv2.getTrackbarPos('V','image')\n",
    "    img_ = img.copy()\n",
    "\n",
    "    h = h - 125\n",
    "    s = s - 125\n",
    "    v = v - 125\n",
    "    \n",
    "    img_[:,:,0]= img_[:,:,0] + h\n",
    "    img_[:,:,1]= img_[:,:,1] + s\n",
    "    img_[:,:,2]= img_[:,:,2] + v\n",
    "\n",
    "\n",
    "cv2.destroyAllWindows()"
   ]
  },
  {
   "cell_type": "code",
   "execution_count": null,
   "metadata": {},
   "outputs": [],
   "source": []
  }
 ],
 "metadata": {
  "kernelspec": {
   "display_name": "Python 3",
   "language": "python",
   "name": "python3"
  },
  "language_info": {
   "codemirror_mode": {
    "name": "ipython",
    "version": 3
   },
   "file_extension": ".py",
   "mimetype": "text/x-python",
   "name": "python",
   "nbconvert_exporter": "python",
   "pygments_lexer": "ipython3",
   "version": "3.6.8"
  }
 },
 "nbformat": 4,
 "nbformat_minor": 2
}
