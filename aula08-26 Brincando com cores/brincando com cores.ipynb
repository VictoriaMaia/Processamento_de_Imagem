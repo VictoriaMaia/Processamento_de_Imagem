{
 "cells": [
  {
   "cell_type": "code",
   "execution_count": 1,
   "metadata": {},
   "outputs": [],
   "source": [
    "# r*0.30 + g*0.59 + b*0.11"
   ]
  },
  {
   "cell_type": "code",
   "execution_count": 1,
   "metadata": {},
   "outputs": [],
   "source": [
    "import numpy as np\n",
    "import cv2\n",
    "from matplotlib import pyplot as plt\n",
    "from mpl_toolkits import mplot3d"
   ]
  },
  {
   "cell_type": "markdown",
   "metadata": {},
   "source": [
    "### Desenhando linhas com uma barra"
   ]
  },
  {
   "cell_type": "code",
   "execution_count": 6,
   "metadata": {},
   "outputs": [],
   "source": [
    "def callback_func(x):\n",
    "    row = cv2.getTrackbarPos('row','image')\n",
    "    cv2.line(im,(0,row),(width-1,row),255,1)\n",
    "    cv2.imshow('image',im)\n",
    "    return"
   ]
  },
  {
   "cell_type": "code",
   "execution_count": 4,
   "metadata": {},
   "outputs": [],
   "source": [
    "im = cv2.imread(\"avatar.png\")\n",
    "\n",
    "width = im.shape[1]\n",
    "height = im.shape[0]\n",
    "\n",
    "cv2.namedWindow('image',cv2.WINDOW_NORMAL)\n",
    "cv2.createTrackbar('row','image',0,height-1,callback_func)\n",
    "cv2.imshow('image',im)\n",
    "\n",
    "while(1):\n",
    "    k = cv2.waitKey(1) & 0xFF\n",
    "    if k == 27:\n",
    "        break\n",
    "        \n",
    "cv2.destroyAllWindows()"
   ]
  },
  {
   "cell_type": "markdown",
   "metadata": {},
   "source": [
    "### Fazendo 3 barras H S V"
   ]
  },
  {
   "cell_type": "code",
   "execution_count": 2,
   "metadata": {},
   "outputs": [],
   "source": [
    "width = 900\n",
    "height = 420"
   ]
  },
  {
   "cell_type": "code",
   "execution_count": 3,
   "metadata": {},
   "outputs": [],
   "source": [
    "def H_func(x):\n",
    "    H_value = cv2.getTrackbarPos('H','image')\n",
    "    if H_value < 180:\n",
    "        img[:,:,0] = img[:,:,0] - H_value\n",
    "    else:\n",
    "        img[:,:,0] = img[:,:,0] + (H_value/2)\n",
    "    img2 = cv2.cvtColor(img, cv2.COLOR_HSV2BGR)\n",
    "    cv2.imshow('image',img2)\n",
    "    return \n",
    "        \n",
    "def S_func(x):\n",
    "    S_value = cv2.getTrackbarPos('S','image')\n",
    "    img[:,:,1] = img[:,:,1] + S_value\n",
    "    img2 = cv2.cvtColor(img, cv2.COLOR_HSV2BGR)\n",
    "    cv2.imshow('image',img2)\n",
    "    return \n",
    "\n",
    "def V_func(x):\n",
    "    V_value = cv2.getTrackbarPos('V','image')\n",
    "    img[:,:,2] = img[:,:,2] + V_value\n",
    "    img2 = cv2.cvtColor(img, cv2.COLOR_HSV2BGR)\n",
    "    cv2.imshow('image',img2)\n",
    "    return "
   ]
  },
  {
   "cell_type": "code",
   "execution_count": 4,
   "metadata": {},
   "outputs": [],
   "source": [
    "img = cv2.imread(\"avatar.png\")\n",
    "img = cv2.cvtColor(img, cv2.COLOR_BGR2HSV)\n",
    "# img = cv2.cvtColor(img, cv2.COLOR_BGR2RGB)\n",
    "\n",
    "width = img.shape[1]\n",
    "height = img.shape[0]\n",
    "\n",
    "cv2.namedWindow('image',cv2.WINDOW_NORMAL)\n",
    "cv2.createTrackbar('H','image', 0, 360, H_func)\n",
    "cv2.createTrackbar('S','image', 0, 203, S_func)\n",
    "cv2.createTrackbar('V','image', 0, 254, V_func)\n",
    "\n",
    "img2 = cv2.cvtColor(img, cv2.COLOR_HSV2BGR)\n",
    "cv2.imshow('image',img2)\n",
    "# cv2.imshow('image',img)\n",
    "\n",
    "while(1):\n",
    "    k = cv2.waitKey(1) & 0xFF\n",
    "    if k == 27:\n",
    "        break\n",
    "        \n",
    "cv2.destroyAllWindows()"
   ]
  },
  {
   "cell_type": "markdown",
   "metadata": {},
   "source": [
    "### Barra de cores"
   ]
  },
  {
   "cell_type": "code",
   "execution_count": 5,
   "metadata": {},
   "outputs": [],
   "source": [
    "def R_func(x):\n",
    "    R_value = cv2.getTrackbarPos('R','image')\n",
    "    img2[:,:,0] = R_value\n",
    "    cv2.imshow('image',img2)\n",
    "    return \n",
    "        \n",
    "def G_func(x):\n",
    "    G_value = cv2.getTrackbarPos('G','image')\n",
    "    img2[:,:,1] = G_value\n",
    "    cv2.imshow('image',img2)\n",
    "    return \n",
    "    \n",
    "def B_func(x):\n",
    "    B_value = cv2.getTrackbarPos('B','image')\n",
    "    img2[:,:,2] = B_value\n",
    "    cv2.imshow('image',img2)\n",
    "    return "
   ]
  },
  {
   "cell_type": "code",
   "execution_count": 6,
   "metadata": {},
   "outputs": [],
   "source": [
    "img2 = cv2.imread(\"avatar.png\")\n",
    "\n",
    "cv2.namedWindow('image',cv2.WINDOW_NORMAL)\n",
    "cv2.createTrackbar('R','image', 0, 250, R_func)\n",
    "cv2.createTrackbar('G','image', 0, 255, G_func)\n",
    "cv2.createTrackbar('B','image', 0, 255, B_func)\n",
    "\n",
    "cv2.imshow('image',img2)\n",
    "\n",
    "while(1):\n",
    "    k = cv2.waitKey(1) & 0xFF\n",
    "    if k == 27:\n",
    "        break\n",
    "        \n",
    "cv2.destroyAllWindows()"
   ]
  }
 ],
 "metadata": {
  "kernelspec": {
   "display_name": "Python 3",
   "language": "python",
   "name": "python3"
  },
  "language_info": {
   "codemirror_mode": {
    "name": "ipython",
    "version": 3
   },
   "file_extension": ".py",
   "mimetype": "text/x-python",
   "name": "python",
   "nbconvert_exporter": "python",
   "pygments_lexer": "ipython3",
   "version": "3.7.3"
  }
 },
 "nbformat": 4,
 "nbformat_minor": 4
}
